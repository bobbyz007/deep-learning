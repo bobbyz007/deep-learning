{
 "cells": [
  {
   "cell_type": "code",
   "execution_count": 4,
   "id": "23cc98b8-dbf3-4baf-b880-99b364d6a901",
   "metadata": {},
   "outputs": [],
   "source": [
    "import torch\n",
    "import torch.nn as nn\n",
    "import torch.optim as optim\n",
    "import torch.nn.functional as F\n",
    "import numpy as np\n",
    "import torchvision\n",
    "from torchvision import datasets, models, transforms\n",
    "import matplotlib.pyplot as plt\n",
    "import time\n",
    "import copy\n",
    "import os"
   ]
  },
  {
   "cell_type": "code",
   "execution_count": 11,
   "id": "c102bb57-cc81-4597-94f3-b5a11e91f4dd",
   "metadata": {},
   "outputs": [],
   "source": [
    "# 迁移学习： 从ImageNet中已经训练好的神经网络 迁移并适配\n",
    "data_dir = '06_transfer_ant_bee_data'\n",
    "image_size = 224\n",
    "\n",
    "train_dataset = datasets.ImageFolder(os.path.join(data_dir, 'train'),\n",
    "                                     transforms.Compose([\n",
    "                                         transforms.RandomResizedCrop(image_size), #  裁剪到指定大小\n",
    "                                         transforms.RandomHorizontalFlip(), # 默认0.5的概率随机水平翻转\n",
    "                                         transforms.ToTensor(), # RBG三个通道数据 归一化到[0, 1](除以255)\n",
    "                                         \n",
    "                                         # 简单来说就是将数据按通道进行计算，将每一个通道的数据先计算出其方差与均值，\n",
    "                                         # 然后再将其每一个通道内的每一个数据减去均值，再除以方差，x = (x - mean) / std，得到归一化后的结果。\n",
    "                                         # 在深度学习图像处理中，标准化处理之后，可以使数据更好的响应激活函数，提高数据的表现力，\n",
    "                                         # 减少梯度爆炸和梯度消失的出现。\n",
    "                                         \n",
    "                                         # ImageNet数据集的均值和方差为：mean=(0.485, 0.456, 0.406)，std=(0.229, 0.224, 0.225)，\n",
    "                                         # 因为这是在百万张图像上计算而得的，所以我们通常见到在训练过程中使用它们做标准化。\n",
    "                                         transforms.Normalize([0.485, 0.456, 0.406], [0.229, 0.224, 0.225]) # 归一化结果不一定是[-1，1]\n",
    "                                     ])\n",
    "                                    )\n",
    "val_dataset = datasets.ImageFolder(os.path.join(data_dir, 'val'),\n",
    "                                   transforms.Compose([\n",
    "                                       transforms.Resize(256),  # 图像放大到 256 * 256\n",
    "                                       transforms.CenterCrop(image_size), # 从中心区域切割 224 * 224\n",
    "                                       transforms.ToTensor(),\n",
    "                                       transforms.Normalize([0.485, 0.456, 0.406], [0.229, 0.224, 0.225])\n",
    "                                   ])\n",
    "                                  )\n",
    "\n",
    "\n",
    "# 创建数据加载器\n",
    "# num_workers 指定工作进程的个数，负责加载batch，一般设置为cpu核心数或一半\n",
    "# batch_size: 每批的数据大小\n",
    "train_loader = torch.utils.data.DataLoader(train_dataset, batch_size = 4, shuffle = True, num_workers = 4)\n",
    "val_loader = torch.utils.data.DataLoader(val_dataset, batch_size = 4, shuffle = True, num_workers = 4)\n",
    "\n",
    "# dataset.classes: 读取数据集下文件夹名并将其作为类别存入列表，如 train目录下有 ants和 bees两个文件夹，所以类别数为2\n",
    "num_classes = len(train_dataset.classes)                                         "
   ]
  },
  {
   "cell_type": "code",
   "execution_count": null,
   "id": "2878c0c4-edee-4cbe-bbb7-1d7c54a8c153",
   "metadata": {},
   "outputs": [],
   "source": []
  }
 ],
 "metadata": {
  "kernelspec": {
   "display_name": "Python 3 (ipykernel)",
   "language": "python",
   "name": "python3"
  },
  "language_info": {
   "codemirror_mode": {
    "name": "ipython",
    "version": 3
   },
   "file_extension": ".py",
   "mimetype": "text/x-python",
   "name": "python",
   "nbconvert_exporter": "python",
   "pygments_lexer": "ipython3",
   "version": "3.12.4"
  }
 },
 "nbformat": 4,
 "nbformat_minor": 5
}
