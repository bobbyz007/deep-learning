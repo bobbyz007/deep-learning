{
 "cells": [
  {
   "cell_type": "code",
   "execution_count": 58,
   "id": "b9714697-f5db-4b8e-b066-b6d991aa91cb",
   "metadata": {},
   "outputs": [],
   "source": [
    "import torch\n",
    "import torch.nn as nn\n",
    "import torch.optim as optim\n",
    "import torch.nn.functional as F\n",
    "\n",
    "import torchvision.datasets as dsets\n",
    "import torchvision.transforms as transforms\n",
    "\n",
    "import matplotlib.pyplot as plt\n",
    "import numpy as np\n",
    "\n",
    "#定义超参数\n",
    "image_size = 28  # image size 28*28\n",
    "num_classes = 10 # 标签的种类\n",
    "num_epochs = 20  # 训练的循环周期\n",
    "batch_size = 64  # 一个批次的大小，64张图片"
   ]
  },
  {
   "cell_type": "code",
   "execution_count": 87,
   "id": "d5eebc43-b935-434a-994e-d53355110871",
   "metadata": {},
   "outputs": [
    {
     "name": "stdout",
     "output_type": "stream",
     "text": [
      "(1, 28, 28)\n",
      "训练集多少批： 938\n",
      "训练集总共多少条： 60000\n",
      "校验集多少批： 79\n",
      "校验集总共多少条： 10000\n",
      "测试集多少批： 79\n",
      "测试集总共多少条： 10000\n",
      "The label is:  5\n"
     ]
    },
    {
     "data": {
      "image/png": "[encoded data removed]",
      "text/plain": [
       "<Figure size 640x480 with 1 Axes>"
      ]
     },
     "metadata": {},
     "output_type": "display_data"
    },
    {
     "name": "stdout",
     "output_type": "stream",
     "text": [
      "The label is:  7\n"
     ]
    },
    {
     "data": {
      "image/png": "[encoded data removed]",
      "text/plain": [
       "<Figure size 640x480 with 1 Axes>"
      ]
     },
     "metadata": {},
     "output_type": "display_data"
    },
    {
     "name": "stdout",
     "output_type": "stream",
     "text": [
      "The label is:  1\n"
     ]
    },
    {
     "data": {
      "image/png": "[encoded data removed]",
      "text/plain": [
       "<Figure size 640x480 with 1 Axes>"
      ]
     },
     "metadata": {},
     "output_type": "display_data"
    }
   ],
   "source": [
    "train_datasets = dsets.MNIST(root='./5_convolution_data', # 文件存放路径\n",
    "                             train = True,  # 提取训练集\n",
    "                             transform=transforms.ToTensor(), #将图像转化为Tensor\n",
    "                             download = True)  # 找不到文件的时候自动下载\n",
    "print(train_datasets[0][0].data.numpy().shape)\n",
    "\n",
    "# 加载测试数据集\n",
    "test_datasets = dsets.MNIST(root='./5_convolution_data', # 文件存放路径\n",
    "                             train = False,  # 提取训练集\n",
    "                             transform=transforms.ToTensor(),) #将图像转化为Tensor\n",
    "                           \n",
    "#  自动将数据切分成批，打乱顺序\n",
    "train_loader = torch.utils.data.DataLoader(dataset = train_datasets,\n",
    "                                           batch_size = batch_size,\n",
    "                                           shuffle = True)\n",
    "print('训练集多少批：', len(train_loader))\n",
    "print('训练集总共多少条：', len(train_loader.dataset))\n",
    "\n",
    "# 测试数据分为两部分，一部分校验用验证是否过拟合，一部分测试\n",
    "indices = range(len(test_datasets))\n",
    "indices_validate = indices[:5000]\n",
    "indices_test = indices[5000:]\n",
    "\n",
    "# 数据采样器\n",
    "sampler_validate = torch.utils.data.sampler.SubsetRandomSampler(indices_validate)\n",
    "sampler_test = torch.utils.data.sampler.SubsetRandomSampler(indices_test)\n",
    "\n",
    "# 根据采样器定义加载器\n",
    "validate_loader = torch.utils.data.DataLoader(dataset = test_datasets,\n",
    "                                              batch_size = batch_size,\n",
    "                                              shuffle = False,\n",
    "                                              sampler = sampler_validate)\n",
    "                                             \n",
    "test_loader = torch.utils.data.DataLoader(dataset = test_datasets,\n",
    "                                              batch_size = batch_size,\n",
    "                                              shuffle = False,\n",
    "                                              sampler = sampler_test)\n",
    "print('校验集多少批：', len(validate_loader))\n",
    "print('校验集总共多少条：', len(validate_loader.dataset))\n",
    "print('测试集多少批：', len(test_loader))\n",
    "print('测试集总共多少条：', len(test_loader.dataset))\n",
    "def show_raw_img(idx):\n",
    "    muteimg = train_datasets[idx][0].data.numpy()\n",
    "    plt.imshow((muteimg[0,...]))   # 因为维度是1*28*28，  所以切片的第一维度索引是0， 即提取 28*28 \n",
    "    print('The label is: ', train_datasets[idx][1])\n",
    "    plt.show()\n",
    "                                           \n",
    "# 随便从数据集中读入一张图片\n",
    "show_raw_img(100)\n",
    "show_raw_img(101)\n",
    "show_raw_img(102)"
   ]
  },
  {
   "cell_type": "code",
   "execution_count": 60,
   "id": "9497ad3d-fbd5-4073-bb21-591531ebe43c",
   "metadata": {},
   "outputs": [],
   "source": [
    "# 构建卷积神经网络\n",
    "depth = [4, 8] # 卷积层的厚度\n",
    "\n",
    "class ConvNet(nn.Module):\n",
    "    def __init__(self):\n",
    "        super(ConvNet, self).__init__()  # 调用父类构造函数\n",
    "\n",
    "        # 卷积后图像维度不变， size + padding * 2 - kernel_size + 1 = size + 4 - 5 + 1 = size\n",
    "        self.conv1 = nn.Conv2d(in_channels = 1, out_channels = 4, kernel_size = 5, padding = 2) # 卷积层\n",
    "        \n",
    "        self.pool = nn.MaxPool2d(2, 2) #  池化层\n",
    "        \n",
    "        self.conv2 = nn.Conv2d(depth[0], depth[1], 5, padding = 2) # 第二层卷积\n",
    "\n",
    "        self.fc1 = nn.Linear(image_size // 4 * image_size // 4 * depth[1], 512) \n",
    "        self.fc2 = nn.Linear(512, num_classes)\n",
    "        \n",
    "    def forward(self, x):\n",
    "        # 神经网络完成真正的前向运算，拼装各个实际的组件\n",
    "        x = self.conv1(x) # 第一层卷积\n",
    "        x = F.relu(x)  # (batch_size, num_filters, image_width, image_height]\n",
    "\n",
    "        x = self.pool(x) # 第二层池化，图片变小：(batch_size, num_filters, image_width / 2, image_height / 2]\n",
    "\n",
    "        x = self.conv2(x) #第三层卷积, (batch_size, depth[1], image_width / 2, image_height / 2]\n",
    "        x = F.relu(x)  \n",
    "\n",
    "        x = self.pool(x) #第四层池化， 图片缩小 (batch_size, depth[1], image_width / 2 / 2, image_height / 2 / 2]\n",
    "\n",
    "        x = x.view(-1, image_size // 4 * image_size // 4 * depth[1])  # 压缩向量\n",
    "\n",
    "        x = F.relu(self.fc1(x)) # 第五层为全连接  (batch_size, 512)\n",
    "\n",
    "        x = F.dropout(x, training = self.training) # 默认以0.5的概率对这一层进行dropout操作，防止过拟合\n",
    "        x = self.fc2(x)  # 全连接层，最终输出 （batch_size, num_classes）\n",
    "\n",
    "        x = F.log_softmax(x, dim=1)\n",
    "        return x\n",
    "\n",
    "    def retrieve_features(self, x):\n",
    "        # 返回前两层卷积层的特征图\n",
    "        feature_map1 = F.relu(self.conv1(x))\n",
    "        x = self.pool(feature_map1)\n",
    "\n",
    "        feature_map2 = F.relu(self.conv2(x))\n",
    "        return (feature_map1, feature_map2)\n",
    "        \n",
    "# 计算分类准确度\n",
    "def rightness(predictions, labels):\n",
    "    # max函数返回[value, index], pred得到最大概率的索引，0表示好，1表示负面\n",
    "    pred = torch.max(predictions.data, 1)[1] # max的dim=1 表示沿着第二个维度计算max，即好或坏两个分类数值， \n",
    "\n",
    "    rights = pred.eq(labels.data.view_as(pred)).sum()\n",
    "\n",
    "    return rights, len(labels)"
   ]
  },
  {
   "cell_type": "code",
   "execution_count": null,
   "id": "1104dbfd-5950-43fc-99d2-d4730a078d22",
   "metadata": {},
   "outputs": [
    {
     "name": "stdout",
     "output_type": "stream",
     "text": [
      "训练周期: 0 [0 / 60000 (0%)]\t, Loss: 2.296101\t, 训练正确率: 12.50%\t, 校验正确率: 9.20%\n",
      "训练周期: 0 [6400 / 60000 (11%)]\t, Loss: 2.296712\t, 训练正确率: 11.26%\t, 校验正确率: 9.20%\n",
      "训练周期: 0 [12800 / 60000 (21%)]\t, Loss: 2.280974\t, 训练正确率: 13.27%\t, 校验正确率: 12.54%\n"
     ]
    }
   ],
   "source": [
    "net = ConvNet() # 自动调用实例的init函数\n",
    "\n",
    "criterion = nn.CrossEntropyLoss() # 定义损失函数\n",
    "# 动量法每下降一步都是由前面下降方向的一个累积和（衰减系数momentum）当前点的梯度方向组合而成。\n",
    "optimizer = optim.SGD(net.parameters(), lr=0.001, momentum=0.9) # 定义优化器, 小批量loss更新的梯度下降算法。 momentum动量法\n",
    "\n",
    "record = []\n",
    "weights = []\n",
    "\n",
    "for epoch in range(num_epochs):\n",
    "    train_rights = []\n",
    "    # data维度: [64, 1, 28, 28], target维度: [64], target存储的是索引值\n",
    "    for batch_idx, (data, target) in enumerate(train_loader):\n",
    "        \n",
    "        # train()方法是用于在训练神经网络时启用dropout、batch normalization和其他特定于训练的操作的函数。\n",
    "        net.train()\n",
    "        \n",
    "        output = net(data)\n",
    "        loss = criterion(output, target)\n",
    "        optimizer.zero_grad() # 清空梯度 \n",
    "        loss.backward()\n",
    "        optimizer.step()  # 随机梯度下降算法更新权重\n",
    "\n",
    "        right = rightness(output, target) # 计算准确率\n",
    "        train_rights.append(right)\n",
    "\n",
    "        if batch_idx % 100 == 0:\n",
    "            net.eval() # 不运行dropout，BN等训练层\n",
    "            validate_rights = []\n",
    "\n",
    "            for (data, target) in validate_loader:\n",
    "                output = net(data)\n",
    "                \n",
    "                right = rightness(output, target)\n",
    "                validate_rights.append(right)\n",
    "\n",
    "            # 训练集准确度=train_r[0] / train_r[1]\n",
    "            train_r = (sum([tup[0] for tup in train_rights]), sum([tup[1] for tup in train_rights]))\n",
    "            # 校验集准确度=validate_r[0] / validate_r[1]\n",
    "            validate_r = (sum([tup[0] for tup in validate_rights]), sum([tup[1] for tup in validate_rights]))\n",
    "\n",
    "            # 计算一个epoch周期内的 准确率\n",
    "            # 训练周期: 0 [12800 / 60000 (21%)]\t, Loss: 2.259433\t, 训练正确率: 14.70%\t, 校验正确率: 30.50%\n",
    "            print('训练周期: {} [{} / {} ({:.0f}%)]\\t, Loss: {:.6f}\\t, 训练正确率: {:.2f}%\\t, 校验正确率: {:.2f}%'.format(\n",
    "                epoch, batch_idx * batch_size, len(train_loader.dataset), 100. * batch_idx / len(train_loader),\n",
    "                loss.data,\n",
    "                100. * train_r[0] / train_r[1],\n",
    "                100. * validate_r[0] / validate_r[1]\n",
    "            ))\n",
    "\n",
    "            record.append((100 - 100. * train_r[0] / train_r[1], 100 - 100. * validate_r[0] / validate_r[1]))\n",
    "            weights.append([net.conv1.weight.data.clone(), net.conv1.bias.data.clone(),\n",
    "                           net.conv2.weight.data.clone(), net.conv2.bias.data.clone()])"
   ]
  }
 ],
 "metadata": {
  "kernelspec": {
   "display_name": "Python 3 (ipykernel)",
   "language": "python",
   "name": "python3"
  },
  "language_info": {
   "codemirror_mode": {
    "name": "ipython",
    "version": 3
   },
   "file_extension": ".py",
   "mimetype": "text/x-python",
   "name": "python",
   "nbconvert_exporter": "python",
   "pygments_lexer": "ipython3",
   "version": "3.12.4"
  }
 },
 "nbformat": 4,
 "nbformat_minor": 5
}
