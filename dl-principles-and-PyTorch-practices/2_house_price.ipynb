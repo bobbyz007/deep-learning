{
 "cells": [
  {
   "cell_type": "code",
   "execution_count": null,
   "id": "8743fa60-d500-48d3-ba6f-17d8d7e3a492",
   "metadata": {},
   "outputs": [],
   "source": [
    "import torch\n",
    "from torch.autograd import Variable\n",
    "\n",
    "x = Variable(torch.linspace(0, 100, 100).type(torch.FloatTensor))\n",
    "x"
   ]
  },
  {
   "cell_type": "code",
   "execution_count": null,
   "id": "04655eb4-9eca-4011-b02d-3c46c8b14df3",
   "metadata": {},
   "outputs": [],
   "source": [
    "rand = Variable(torch.randn(100)) * 10\n",
    "rand"
   ]
  },
  {
   "cell_type": "code",
   "execution_count": null,
   "id": "d909376c-cdea-4761-aabb-27686a0bacd9",
   "metadata": {},
   "outputs": [],
   "source": [
    "y = x + rand\n",
    "y"
   ]
  },
  {
   "cell_type": "code",
   "execution_count": null,
   "id": "3886b312-a114-4251-9ba2-64a4aabfbf5d",
   "metadata": {},
   "outputs": [],
   "source": [
    "x_train = x[: -10]\n",
    "x_test = x[-10: ]\n",
    "y_train = y[: -10]\n",
    "y_test = y[-10: ]"
   ]
  },
  {
   "cell_type": "code",
   "execution_count": null,
   "id": "fba1f3f7-6c53-4629-a3b6-15063832b6da",
   "metadata": {},
   "outputs": [],
   "source": [
    "import matplotlib.pyplot as plt\n",
    "plt.figure(figsize=(10, 8))\n",
    "\n",
    "plt.plot(x_train.data.numpy(), y_train.data.numpy(), 'o')\n",
    "\n",
    "plt.xlabel('X')\n",
    "plt.ylabel('Y')\n",
    "plt.show()"
   ]
  },
  {
   "cell_type": "code",
   "execution_count": null,
   "id": "04d2b1b2-21d5-4fe3-99a9-d7a7a53648a3",
   "metadata": {},
   "outputs": [],
   "source": [
    "a = Variable(torch.rand(1), requires_grad=True)\n",
    "b = Variable(torch.rand(1), requires_grad=True)\n",
    "a, b"
   ]
  },
  {
   "cell_type": "code",
   "execution_count": null,
   "id": "16c94962-d2a1-4cd6-aa60-9de4944e7fb2",
   "metadata": {},
   "outputs": [],
   "source": [
    "learning_rate = 0.0001\n",
    "for i in range(1000):\n",
    "    predictions = a.expand_as(x_train) * x_train + b.expand_as(x_train)\n",
    "    loss = torch.mean((predictions - y_train) ** 2)\n",
    "    \n",
    "    #print(\"loss: \", loss)\n",
    "    loss.backward()\n",
    "    a.data.add_(-learning_rate * a.grad.data)\n",
    "    b.data.add_(-learning_rate * b.grad.data)\n",
    "    \n",
    "    a.grad.data.zero_()\n",
    "    b.grad.data.zero_()\n",
    "\n",
    "print(a.data)\n",
    "print(b.data)"
   ]
  },
  {
   "cell_type": "code",
   "execution_count": null,
   "id": "f6512a80-ba4d-4b36-a5ce-99fc33ee73a9",
   "metadata": {},
   "outputs": [],
   "source": [
    "x_data = x_train.data.numpy()\n",
    "plt.figure(figsize=(10, 7))\n",
    "\n",
    "xplot,  = plt.plot(x_data, y_train.data.numpy(), 'o')\n",
    "yplot,  = plt.plot(x_data, a.data.numpy() * x_data + b.data.numpy())\n",
    "\n",
    "plt.xlabel('X')\n",
    "plt.ylabel('Y')\n",
    "\n",
    "str1 = str(a.data.numpy()[0]) + 'x + ' + str(b.data.numpy()[0])\n",
    "plt.legend([xplot, yplot], ['Data', str1])\n",
    "plt.show()"
   ]
  },
  {
   "cell_type": "code",
   "execution_count": null,
   "id": "5f657655-aed1-4aed-b6b8-354b8de0fbd4",
   "metadata": {},
   "outputs": [],
   "source": [
    "predictions = a.expand_as(x_test) * x_test + b.expand_as(x_test)\n",
    "predictions"
   ]
  },
  {
   "cell_type": "code",
   "execution_count": null,
   "id": "8c597381-cfb5-4a23-86d3-53400caf238a",
   "metadata": {},
   "outputs": [],
   "source": [
    "import numpy as np\n",
    "\n",
    "x_data = x_train.data.numpy()\n",
    "x_pred = x_test.data.numpy()\n",
    "\n",
    "plt.figure(figsize=(10, 7))\n",
    "plt.plot(x_data, y_train.data.numpy(), 'o')\n",
    "plt.plot(x_pred, y_test.data.numpy(), 's')\n",
    "\n",
    "x_data = np.r_[x_data, x_test.data.numpy()]\n",
    "plt.plot(x_data, a.data.numpy() * x_data + b.data.numpy())\n",
    "plt.plot(x_pred, a.data.numpy() * x_pred + b.data.numpy(), 'o')\n",
    "\n",
    "plt.xlabel('X')\n",
    "plt.ylabel('Y')\n",
    "str1 = str(a.data.numpy()[0]) + 'x + ' + str(b.data.numpy()[0])\n",
    "plt.legend([xplot, yplot], ['Data', str1])\n",
    "plt.show()"
   ]
  }
 ],
 "metadata": {
  "kernelspec": {
   "display_name": "Python 3 (ipykernel)",
   "language": "python",
   "name": "python3"
  },
  "language_info": {
   "codemirror_mode": {
    "name": "ipython",
    "version": 3
   },
   "file_extension": ".py",
   "mimetype": "text/x-python",
   "name": "python",
   "nbconvert_exporter": "python",
   "pygments_lexer": "ipython3",
   "version": "3.12.4"
  }
 },
 "nbformat": 4,
 "nbformat_minor": 5
}
