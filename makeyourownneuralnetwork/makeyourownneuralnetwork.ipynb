{
 "cells": [
  {
   "cell_type": "code",
   "execution_count": 1,
   "id": "16782260-6430-40a7-b1c9-97809cc6657a",
   "metadata": {},
   "outputs": [],
   "source": [
    "import numpy as np\n",
    "import matplotlib.pyplot as plt\n",
    "import scipy.special as sc"
   ]
  },
  {
   "cell_type": "code",
   "execution_count": 2,
   "id": "b81b09c1-29d1-4f86-86bc-ad30a7a79532",
   "metadata": {},
   "outputs": [],
   "source": [
    "class NeuralNetwork:\n",
    "    def __init__(self, inputnodes, hiddennodes, outputnodes, learningrate):\n",
    "        self.inodes = inputnodes\n",
    "        self.hnodes = hiddennodes\n",
    "        self.onodes = outputnodes\n",
    "        self.lr = learningrate\n",
    "\n",
    "        # 初始化权重矩阵,权重值范围 (0, 1) -> (-1, 1)\n",
    "        self.wih = -1 + 2 * np.random.rand(self.hnodes, self.inodes)  \n",
    "        self.who = -1 + 2 * np.random.rand(self.onodes, self.hnodes)\n",
    "\n",
    "        self.activation_func = lambda x: sc.expit(x) # sigmoid function\n",
    "\n",
    "        \n",
    "    def train(self, inputs_list, targets_list):\n",
    "        inputs = np.array(inputs_list, ndmin = 2).T # [inodes, 1]\n",
    "        targets = np.array(targets_list, ndmin = 2).T # [onodes, 1]\n",
    "\n",
    "\n",
    "        hidden_inputs = np.dot(self.wih, inputs)\n",
    "        hidden_outputs = self.activation_func(hidden_inputs)\n",
    "\n",
    "        final_inputs = np.dot(self.who, hidden_outputs)\n",
    "        final_outputs = self.activation_func(final_inputs)\n",
    "\n",
    "        output_errors = targets - final_outputs # 输出层节点误差, shape: [onodes, 1]\n",
    "        # 但不是严格意义的按权重分隔误差，假设两个节点简单地用 e1*w1.1 代替 e1 * w1.1/(w1.1+w2.1)， 实验证明这种简单分隔也是有效的\n",
    "        # 简单处理可以加速计算\n",
    "        hidden_errors = np.dot(self.who.T, output_errors) # 按照隐藏层到输出层的权重分隔误差。 shape: [hnodes, 1]\n",
    "\n",
    "        # 单个梯度公式： d E/d W[j,k] = -(t[k]-o[k]) * o[k] * (1-o[k]) * o[j]，其中o[j], o[k]分别代表隐藏层和输出层的输出, t[k]是目标\n",
    "        # 反向传播，更新权重\n",
    "        self.who -= -self.lr * np.dot(output_errors * final_outputs * (1 - final_outputs), np.transpose(hidden_outputs))\n",
    "\n",
    "        self.wih -= -self.lr * np.dot(hidden_errors * hidden_outputs * (1 - hidden_outputs), np.transpose(inputs))\n",
    "\n",
    "    def query(self, inputs_list):\n",
    "        inputs = np.array(inputs_list, ndmin = 2).T # [n, 1]\n",
    "\n",
    "        hidden_inputs = np.dot(self.wih, inputs)\n",
    "        hidden_outputs = self.activation_func(hidden_inputs)\n",
    "\n",
    "        final_inputs = np.dot(self.who, hidden_outputs)\n",
    "        final_outputs = self.activation_func(final_inputs)\n",
    "        return final_outputs\n"
   ]
  },
  {
   "cell_type": "code",
   "execution_count": 3,
   "id": "22476dc7-b0fc-4077-8f8f-8883e59a350e",
   "metadata": {},
   "outputs": [
    {
     "name": "stdout",
     "output_type": "stream",
     "text": [
      "5,0,0,0,0,0,0,0,0,0,0,0,0,0,0,0,0,0,0,0,0,0,0,0,0,0,0,0,0,0,0,0,0,0,0,0,0,0,0,0,0,0,0,0,0,0,0,0,0,0,0,0,0,0,0,0,0,0,0,0,0,0,0,0,0,0,0,0,0,0,0,0,0,0,0,0,0,0,0,0,0,0,0,0,0,0,0,0,0,0,0,0,0,0,0,0,0,0,0,0,0,0,0,0,0,0,0,0,0,0,0,0,0,0,0,0,0,0,0,0,0,0,0,0,0,0,0,0,0,0,0,0,0,0,0,0,0,0,0,0,0,0,0,0,0,0,0,0,0,0,0,0,0,3,18,18,18,126,136,175,26,166,255,247,127,0,0,0,0,0,0,0,0,0,0,0,0,30,36,94,154,170,253,253,253,253,253,225,172,253,242,195,64,0,0,0,0,0,0,0,0,0,0,0,49,238,253,253,253,253,253,253,253,253,251,93,82,82,56,39,0,0,0,0,0,0,0,0,0,0,0,0,18,219,253,253,253,253,253,198,182,247,241,0,0,0,0,0,0,0,0,0,0,0,0,0,0,0,0,0,0,80,156,107,253,253,205,11,0,43,154,0,0,0,0,0,0,0,0,0,0,0,0,0,0,0,0,0,0,0,14,1,154,253,90,0,0,0,0,0,0,0,0,0,0,0,0,0,0,0,0,0,0,0,0,0,0,0,0,0,139,253,190,2,0,0,0,0,0,0,0,0,0,0,0,0,0,0,0,0,0,0,0,0,0,0,0,0,11,190,253,70,0,0,0,0,0,0,0,0,0,0,0,0,0,0,0,0,0,0,0,0,0,0,0,0,0,35,241,225,160,108,1,0,0,0,0,0,0,0,0,0,0,0,0,0,0,0,0,0,0,0,0,0,0,0,81,240,253,253,119,25,0,0,0,0,0,0,0,0,0,0,0,0,0,0,0,0,0,0,0,0,0,0,0,45,186,253,253,150,27,0,0,0,0,0,0,0,0,0,0,0,0,0,0,0,0,0,0,0,0,0,0,0,16,93,252,253,187,0,0,0,0,0,0,0,0,0,0,0,0,0,0,0,0,0,0,0,0,0,0,0,0,0,249,253,249,64,0,0,0,0,0,0,0,0,0,0,0,0,0,0,0,0,0,0,0,0,0,46,130,183,253,253,207,2,0,0,0,0,0,0,0,0,0,0,0,0,0,0,0,0,0,0,0,39,148,229,253,253,253,250,182,0,0,0,0,0,0,0,0,0,0,0,0,0,0,0,0,0,0,24,114,221,253,253,253,253,201,78,0,0,0,0,0,0,0,0,0,0,0,0,0,0,0,0,0,23,66,213,253,253,253,253,198,81,2,0,0,0,0,0,0,0,0,0,0,0,0,0,0,0,0,18,171,219,253,253,253,253,195,80,9,0,0,0,0,0,0,0,0,0,0,0,0,0,0,0,0,55,172,226,253,253,253,253,244,133,11,0,0,0,0,0,0,0,0,0,0,0,0,0,0,0,0,0,0,136,253,253,253,212,135,132,16,0,0,0,0,0,0,0,0,0,0,0,0,0,0,0,0,0,0,0,0,0,0,0,0,0,0,0,0,0,0,0,0,0,0,0,0,0,0,0,0,0,0,0,0,0,0,0,0,0,0,0,0,0,0,0,0,0,0,0,0,0,0,0,0,0,0,0,0,0,0,0,0,0,0,0,0,0,0,0,0,0,0,0,0,0,0,0,0,0,0,0,0,0,0,0,0,0,0,0,0\n",
      "\n"
     ]
    }
   ],
   "source": [
    "data_file = open('mnist_dataset/mnist_train_100.csv')\n",
    "data_list = data_file.readlines()\n",
    "\n",
    "print(data_list[0]) # print 99th line\n",
    "data_file.close()"
   ]
  },
  {
   "cell_type": "code",
   "execution_count": 4,
   "id": "50b2cab8-679d-4e84-8cf9-d6d835a9f8bb",
   "metadata": {},
   "outputs": [
    {
     "data": {
      "text/plain": [
       "<matplotlib.image.AxesImage at 0x7fa1fad4e780>"
      ]
     },
     "execution_count": 4,
     "metadata": {},
     "output_type": "execute_result"
    },
    {
     "data": {
      "image/png": "[encoded data removed]",
      "text/plain": [
       "<Figure size 640x480 with 1 Axes>"
      ]
     },
     "metadata": {},
     "output_type": "display_data"
    }
   ],
   "source": [
    "all_values = data_list[0].split(',')\n",
    "image_array = np.asfarray(all_values[1:]).reshape(28, 28)  # 先转换浮点数组，再转化为28*28二维数组\n",
    "\n",
    "plt.imshow(image_array, cmap='Greys', interpolation='None')"
   ]
  },
  {
   "cell_type": "code",
   "execution_count": 43,
   "id": "954b84f2-403a-4b9c-a5f2-cde3c8c8cb24",
   "metadata": {},
   "outputs": [
    {
     "name": "stdout",
     "output_type": "stream",
     "text": [
      "epoch:  0\n",
      "\ttraining index:  0\n",
      "\ttraining index:  10000\n",
      "\ttraining index:  20000\n",
      "\ttraining index:  30000\n",
      "\ttraining index:  40000\n",
      "\ttraining index:  50000\n",
      "epoch:  1\n",
      "\ttraining index:  0\n",
      "\ttraining index:  10000\n",
      "\ttraining index:  20000\n",
      "\ttraining index:  30000\n",
      "\ttraining index:  40000\n",
      "\ttraining index:  50000\n",
      "epoch:  2\n",
      "\ttraining index:  0\n",
      "\ttraining index:  10000\n",
      "\ttraining index:  20000\n",
      "\ttraining index:  30000\n",
      "\ttraining index:  40000\n",
      "\ttraining index:  50000\n",
      "epoch:  3\n",
      "\ttraining index:  0\n",
      "\ttraining index:  10000\n",
      "\ttraining index:  20000\n",
      "\ttraining index:  30000\n",
      "\ttraining index:  40000\n",
      "\ttraining index:  50000\n",
      "epoch:  4\n",
      "\ttraining index:  0\n",
      "\ttraining index:  10000\n",
      "\ttraining index:  20000\n",
      "\ttraining index:  30000\n",
      "\ttraining index:  40000\n",
      "\ttraining index:  50000\n"
     ]
    }
   ],
   "source": [
    "input_nodes = 784  # 28*28像素\n",
    "hidden_nodes = 300\n",
    "output_nodes = 10\n",
    "\n",
    "learning_rate = 0.1\n",
    "\n",
    "epoches = 5\n",
    "\n",
    "nn = NeuralNetwork(input_nodes, hidden_nodes, output_nodes, learning_rate)\n",
    "\n",
    "# load file\n",
    "training_data_file = open('mnist_dataset/mnist_train.csv')\n",
    "training_data_list = training_data_file.readlines()\n",
    "training_data_file.close()\n",
    "\n",
    "def normalize(str_arr):\n",
    "    return np.asfarray(str_arr) / 255.0 * 0.99 + 0.01\n",
    "\n",
    "for e in range(epoches):\n",
    "    print('epoch: ', e)\n",
    "    for index, record in enumerate(training_data_list):\n",
    "        if index % 10000 == 0:\n",
    "            print('\\ttraining index: ', index)\n",
    "        values = record.split(',')\n",
    "        inputs = normalize(values[1:]) # 归一化\n",
    "        \n",
    "        targets = np.zeros(output_nodes) + 0.01\n",
    "        targets[int(values[0])] = 0.99  # values[0]是目标标签，其他位置的值都是0.01\n",
    "        \n",
    "        nn.train(inputs, targets)"
   ]
  },
  {
   "cell_type": "code",
   "execution_count": 49,
   "id": "18351c26-f884-438b-94d5-f47c0a4ed644",
   "metadata": {},
   "outputs": [
    {
     "name": "stdout",
     "output_type": "stream",
     "text": [
      "performances:  0.9661\n"
     ]
    }
   ],
   "source": [
    "# 测试模型\n",
    "test_data_file = open('mnist_dataset/mnist_test.csv', 'r')\n",
    "test_data_list = test_data_file.readlines()\n",
    "test_data_file.close()\n",
    "\n",
    "scorecard = []\n",
    "\n",
    "for record in test_data_list:\n",
    "    values = record.split(',')\n",
    "    correct_label = int(values[0])\n",
    "    \n",
    "    inputs = normalize(values[1:])\n",
    "    outputs = nn.query(inputs)\n",
    "\n",
    "    max_label_idx = np.argmax(outputs) # 求最大值所在的索引\n",
    "\n",
    "    # print('target: {}, network output: {}'.format(correct_label, max_label_idx))\n",
    "    if max_label_idx == correct_label:\n",
    "        scorecard.append(1)\n",
    "    else:\n",
    "        scorecard.append(0)\n",
    "# print('\\nscore board:', scorecard)\n",
    "scorecard_arr = np.asarray(scorecard)\n",
    "print('performances: ', scorecard_arr.sum() / scorecard_arr.size)"
   ]
  },
  {
   "cell_type": "markdown",
   "id": "85d45b23-0407-4936-a1cc-d05596006522",
   "metadata": {},
   "source": [
    "## Using our own images to test:"
   ]
  },
  {
   "cell_type": "code",
   "execution_count": 132,
   "id": "5ca5ab43-4bb1-47d4-b489-3692b048be6a",
   "metadata": {},
   "outputs": [
    {
     "name": "stdout",
     "output_type": "stream",
     "text": [
      "label: 2, image array size: 785\n",
      "label: 3, image array size: 785\n",
      "label: 3, image array size: 785\n",
      "label: 4, image array size: 785\n",
      "label: 6, image array size: 785\n",
      "label: 6, image array size: 785\n",
      "label: 5, image array size: 785\n"
     ]
    }
   ],
   "source": [
    "import os\n",
    "# helper to load data from PNG image files\n",
    "import imageio.v3\n",
    "\n",
    "# our own image test data set\n",
    "our_own_dataset = []\n",
    "\n",
    "my_own_images_dir = 'my_own_images/'\n",
    "for label in os.listdir(my_own_images_dir):\n",
    "    subdir_path = os.path.join(my_own_images_dir, label)\n",
    "    if os.path.isdir(subdir_path) and not label.startswith('.'):\n",
    "        for image_file in os.listdir(subdir_path):\n",
    "            image_file = os.path.join(subdir_path, image_file)\n",
    "            # load image data from png files into an array\n",
    "            img_array = imageio.v3.imread(image_file, mode='F') # 模式F 浮点灰色图像\n",
    "\n",
    "            # reshape from 28x28 to list of 784 values, invert values\n",
    "            img_data  = 255.0 - img_array.reshape(784) # 一般0代表黑色，255代表白色， 但是MNIST使用了相反的方式\n",
    "            # then scale data to range from 0.01 to 1.0\n",
    "            img_data = (img_data / 255.0 * 0.99) + 0.01\n",
    "\n",
    "            # append label and image data  to test data set\n",
    "            record = np.append(int(label), img_data)\n",
    "            print('label: {}, image array size: {}'.format(label, record.size))\n",
    "            our_own_dataset.append(record)"
   ]
  },
  {
   "cell_type": "code",
   "execution_count": 134,
   "id": "200931fe-8192-4969-96ce-cd2387a1e3ff",
   "metadata": {},
   "outputs": [
    {
     "name": "stdout",
     "output_type": "stream",
     "text": [
      "label:  2\n"
     ]
    },
    {
     "data": {
      "text/plain": [
       "<matplotlib.image.AxesImage at 0x7fa1f2e88170>"
      ]
     },
     "execution_count": 134,
     "metadata": {},
     "output_type": "execute_result"
    },
    {
     "data": {
      "image/png": "[encoded data removed]",
      "text/plain": [
       "<Figure size 640x480 with 1 Axes>"
      ]
     },
     "metadata": {},
     "output_type": "display_data"
    }
   ],
   "source": [
    "print('label: ', int(our_own_dataset[0][0]))\n",
    "plt.imshow(our_own_dataset[0][1:].reshape(28,28), cmap='Greys', interpolation='None')"
   ]
  },
  {
   "cell_type": "code",
   "execution_count": 146,
   "id": "0e5d3d1c-df37-4680-8610-d8c7e11c6995",
   "metadata": {},
   "outputs": [
    {
     "name": "stdout",
     "output_type": "stream",
     "text": [
      "[[2.40676459e-04]\n",
      " [2.70553472e-04]\n",
      " [9.33681401e-01]\n",
      " [5.60698795e-02]\n",
      " [3.92843137e-04]\n",
      " [1.82724683e-03]\n",
      " [2.56502339e-05]\n",
      " [1.25158305e-01]\n",
      " [1.53289192e-05]\n",
      " [9.06189472e-03]]\n",
      "network says:  2\n",
      "match!\n"
     ]
    },
    {
     "data": {
      "image/png": "[encoded data removed]",
      "text/plain": [
       "<Figure size 640x480 with 1 Axes>"
      ]
     },
     "metadata": {},
     "output_type": "display_data"
    }
   ],
   "source": [
    "# test the neural network with our own images\n",
    "\n",
    "# record to test\n",
    "item = 0\n",
    "\n",
    "# plot image\n",
    "plt.imshow(our_own_dataset[item][1:].reshape(28,28), cmap='Greys', interpolation='None')\n",
    "\n",
    "# correct answer is first value\n",
    "correct_label = our_own_dataset[item][0]\n",
    "# data is remaining values\n",
    "inputs = our_own_dataset[item][1:]\n",
    "\n",
    "# query the network\n",
    "outputs = nn.query(inputs)\n",
    "print (outputs)\n",
    "\n",
    "# the index of the highest value corresponds to the label\n",
    "label = np.argmax(outputs)\n",
    "print(\"network says: \", label)\n",
    "# append correct or incorrect to list\n",
    "if (label == correct_label):\n",
    "    print (\"match!\")\n",
    "else:\n",
    "    print (\"no match!\")"
   ]
  }
 ],
 "metadata": {
  "kernelspec": {
   "display_name": "Python 3 (ipykernel)",
   "language": "python",
   "name": "python3"
  },
  "language_info": {
   "codemirror_mode": {
    "name": "ipython",
    "version": 3
   },
   "file_extension": ".py",
   "mimetype": "text/x-python",
   "name": "python",
   "nbconvert_exporter": "python",
   "pygments_lexer": "ipython3",
   "version": "3.12.5"
  }
 },
 "nbformat": 4,
 "nbformat_minor": 5
}
