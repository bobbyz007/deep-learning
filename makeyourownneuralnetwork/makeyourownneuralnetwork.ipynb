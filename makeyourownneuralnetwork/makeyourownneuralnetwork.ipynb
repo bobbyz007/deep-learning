{
 "cells": [
  {
   "cell_type": "code",
   "execution_count": 1,
   "id": "16782260-6430-40a7-b1c9-97809cc6657a",
   "metadata": {},
   "outputs": [],
   "source": [
    "import numpy as np\n",
    "import matplotlib.pyplot as plt\n",
    "import scipy.special as sc"
   ]
  },
  {
   "cell_type": "code",
   "execution_count": 2,
   "id": "b81b09c1-29d1-4f86-86bc-ad30a7a79532",
   "metadata": {},
   "outputs": [],
   "source": [
    "class NeuralNetwork:\n",
    "    def __init__(self, inputnodes, hiddennodes, outputnodes, learningrate):\n",
    "        self.inodes = inputnodes\n",
    "        self.hnodes = hiddennodes\n",
    "        self.onodes = outputnodes\n",
    "        self.lr = learningrate\n",
    "\n",
    "        # 初始化权重矩阵,权重值范围 (0, 1) -> (-1, 1)\n",
    "        self.wih = -1 + 2 * np.random.rand(self.hnodes, self.inodes)  \n",
    "        self.who = -1 + 2 * np.random.rand(self.onodes, self.hnodes)\n",
    "\n",
    "        self.activation_func = lambda x: sc.expit(x) # sigmoid function\n",
    "\n",
    "        \n",
    "    def train(self, inputs_list, targets_list):\n",
    "        inputs = np.array(inputs_list, ndmin = 2).T # [inodes, 1]\n",
    "        targets = np.array(targets_list, ndmin = 2).T # [onodes, 1]\n",
    "\n",
    "\n",
    "        hidden_inputs = np.dot(self.wih, inputs)\n",
    "        hidden_outputs = self.activation_func(hidden_inputs)\n",
    "\n",
    "        final_inputs = np.dot(self.who, hidden_outputs)\n",
    "        final_outputs = self.activation_func(final_inputs)\n",
    "\n",
    "        output_errors = targets - final_outputs # 输出层节点误差, shape: [onodes, 1]\n",
    "        # 但不是严格意义的按权重分隔误差，假设两个节点简单地用 e1*w1.1 代替 e1 * w1.1/(w1.1+w2.1)， 实验证明这种简单分隔也是有效的\n",
    "        # 简单处理可以加速计算\n",
    "        hidden_errors = np.dot(self.who.T, output_errors) # 按照隐藏层到输出层的权重分隔误差。 shape: [hnodes, 1]\n",
    "\n",
    "        # 单个梯度公式： d E/d W[j,k] = -(t[k]-o[k]) * o[k] * (1-o[k]) * o[j]，其中o[j], o[k]分别代表隐藏层和输出层的输出, t[k]是目标\n",
    "        # 反向传播，更新权重\n",
    "        self.who -= -self.lr * np.dot(output_errors * final_outputs * (1 - final_outputs), np.transpose(hidden_outputs))\n",
    "\n",
    "        self.wih -= -self.lr * np.dot(hidden_errors * hidden_outputs * (1 - hidden_outputs), np.transpose(inputs))\n",
    "\n",
    "    def query(self, inputs_list):\n",
    "        inputs = np.array(inputs_list, ndmin = 2).T # [n, 1]\n",
    "\n",
    "        hidden_inputs = np.dot(self.wih, inputs)\n",
    "        hidden_outputs = self.activation_func(hidden_inputs)\n",
    "\n",
    "        final_inputs = np.dot(self.who, hidden_outputs)\n",
    "        final_outputs = self.activation_func(final_inputs)\n",
    "        return final_outputs\n"
   ]
  },
  {
   "cell_type": "code",
   "execution_count": 3,
   "id": "22476dc7-b0fc-4077-8f8f-8883e59a350e",
   "metadata": {},
   "outputs": [
    {
     "name": "stdout",
     "output_type": "stream",
     "text": [
      "5,0,0,0,0,0,0,0,0,0,0,0,0,0,0,0,0,0,0,0,0,0,0,0,0,0,0,0,0,0,0,0,0,0,0,0,0,0,0,0,0,0,0,0,0,0,0,0,0,0,0,0,0,0,0,0,0,0,0,0,0,0,0,0,0,0,0,0,0,0,0,0,0,0,0,0,0,0,0,0,0,0,0,0,0,0,0,0,0,0,0,0,0,0,0,0,0,0,0,0,0,0,0,0,0,0,0,0,0,0,0,0,0,0,0,0,0,0,0,0,0,0,0,0,0,0,0,0,0,0,0,0,0,0,0,0,0,0,0,0,0,0,0,0,0,0,0,0,0,0,0,0,0,3,18,18,18,126,136,175,26,166,255,247,127,0,0,0,0,0,0,0,0,0,0,0,0,30,36,94,154,170,253,253,253,253,253,225,172,253,242,195,64,0,0,0,0,0,0,0,0,0,0,0,49,238,253,253,253,253,253,253,253,253,251,93,82,82,56,39,0,0,0,0,0,0,0,0,0,0,0,0,18,219,253,253,253,253,253,198,182,247,241,0,0,0,0,0,0,0,0,0,0,0,0,0,0,0,0,0,0,80,156,107,253,253,205,11,0,43,154,0,0,0,0,0,0,0,0,0,0,0,0,0,0,0,0,0,0,0,14,1,154,253,90,0,0,0,0,0,0,0,0,0,0,0,0,0,0,0,0,0,0,0,0,0,0,0,0,0,139,253,190,2,0,0,0,0,0,0,0,0,0,0,0,0,0,0,0,0,0,0,0,0,0,0,0,0,11,190,253,70,0,0,0,0,0,0,0,0,0,0,0,0,0,0,0,0,0,0,0,0,0,0,0,0,0,35,241,225,160,108,1,0,0,0,0,0,0,0,0,0,0,0,0,0,0,0,0,0,0,0,0,0,0,0,81,240,253,253,119,25,0,0,0,0,0,0,0,0,0,0,0,0,0,0,0,0,0,0,0,0,0,0,0,45,186,253,253,150,27,0,0,0,0,0,0,0,0,0,0,0,0,0,0,0,0,0,0,0,0,0,0,0,16,93,252,253,187,0,0,0,0,0,0,0,0,0,0,0,0,0,0,0,0,0,0,0,0,0,0,0,0,0,249,253,249,64,0,0,0,0,0,0,0,0,0,0,0,0,0,0,0,0,0,0,0,0,0,46,130,183,253,253,207,2,0,0,0,0,0,0,0,0,0,0,0,0,0,0,0,0,0,0,0,39,148,229,253,253,253,250,182,0,0,0,0,0,0,0,0,0,0,0,0,0,0,0,0,0,0,24,114,221,253,253,253,253,201,78,0,0,0,0,0,0,0,0,0,0,0,0,0,0,0,0,0,23,66,213,253,253,253,253,198,81,2,0,0,0,0,0,0,0,0,0,0,0,0,0,0,0,0,18,171,219,253,253,253,253,195,80,9,0,0,0,0,0,0,0,0,0,0,0,0,0,0,0,0,55,172,226,253,253,253,253,244,133,11,0,0,0,0,0,0,0,0,0,0,0,0,0,0,0,0,0,0,136,253,253,253,212,135,132,16,0,0,0,0,0,0,0,0,0,0,0,0,0,0,0,0,0,0,0,0,0,0,0,0,0,0,0,0,0,0,0,0,0,0,0,0,0,0,0,0,0,0,0,0,0,0,0,0,0,0,0,0,0,0,0,0,0,0,0,0,0,0,0,0,0,0,0,0,0,0,0,0,0,0,0,0,0,0,0,0,0,0,0,0,0,0,0,0,0,0,0,0,0,0,0,0,0,0,0,0\n",
      "\n"
     ]
    }
   ],
   "source": [
    "data_file = open('mnist_dataset/mnist_train_100.csv')\n",
    "data_list = data_file.readlines()\n",
    "\n",
    "print(data_list[0]) # print 99th line\n",
    "data_file.close()"
   ]
  },
  {
   "cell_type": "code",
   "execution_count": 4,
   "id": "50b2cab8-679d-4e84-8cf9-d6d835a9f8bb",
   "metadata": {},
   "outputs": [
    {
     "data": {
      "text/plain": [
       "<matplotlib.image.AxesImage at 0x7fa1fad4e780>"
      ]
     },
     "execution_count": 4,
     "metadata": {},
     "output_type": "execute_result"
    },
    {
     "data": {
      "image/png": "[encoded data removed]",
      "text/plain": [
       "<Figure size 640x480 with 1 Axes>"
      ]
     },
     "metadata": {},
     "output_type": "display_data"
    }
   ],
   "source": [
    "all_values = data_list[0].split(',')\n",
    "image_array = np.asfarray(all_values[1:]).reshape(28, 28)  # 先转换浮点数组，再转化为28*28二维数组\n",
    "\n",
    "plt.imshow(image_array, cmap='Greys', interpolation='None')"
   ]
  },
  {
   "cell_type": "code",
   "execution_count": 35,
   "id": "954b84f2-403a-4b9c-a5f2-cde3c8c8cb24",
   "metadata": {},
   "outputs": [
    {
     "name": "stdout",
     "output_type": "stream",
     "text": [
      "training index:  0\n",
      "training index:  3000\n",
      "training index:  6000\n",
      "training index:  9000\n",
      "training index:  12000\n",
      "training index:  15000\n",
      "training index:  18000\n",
      "training index:  21000\n",
      "training index:  24000\n",
      "training index:  27000\n",
      "training index:  30000\n",
      "training index:  33000\n",
      "training index:  36000\n",
      "training index:  39000\n",
      "training index:  42000\n",
      "training index:  45000\n",
      "training index:  48000\n",
      "training index:  51000\n",
      "training index:  54000\n",
      "training index:  57000\n"
     ]
    }
   ],
   "source": [
    "input_nodes = 784  # 28*28像素\n",
    "hidden_nodes = 100\n",
    "output_nodes = 10\n",
    "\n",
    "learning_rate = 0.1\n",
    "nn = NeuralNetwork(input_nodes, hidden_nodes, output_nodes, learning_rate)\n",
    "\n",
    "# load file\n",
    "training_data_file = open('mnist_dataset/mnist_train.csv')\n",
    "training_data_list = training_data_file.readlines()\n",
    "training_data_file.close()\n",
    "\n",
    "def normalize(str_arr):\n",
    "    return np.asfarray(str_arr) / 255.0 * 0.99 + 0.01\n",
    "\n",
    "for index, record in enumerate(training_data_list):\n",
    "    if index % 3000 == 0:\n",
    "        print('training index: ', index)\n",
    "    values = record.split(',')\n",
    "    inputs = normalize(values[1:]) # 归一化\n",
    "    \n",
    "    targets = np.zeros(output_nodes) + 0.01\n",
    "    targets[int(values[0])] = 0.99  # values[0]是目标标签，其他位置的值都是0.01\n",
    "\n",
    "    nn.train(inputs, targets)"
   ]
  },
  {
   "cell_type": "code",
   "execution_count": 34,
   "id": "18351c26-f884-438b-94d5-f47c0a4ed644",
   "metadata": {},
   "outputs": [
    {
     "name": "stdout",
     "output_type": "stream",
     "text": [
      "performances:  0.9285\n"
     ]
    }
   ],
   "source": [
    "# 测试模型\n",
    "test_data_file = open('mnist_dataset/mnist_test.csv', 'r')\n",
    "test_data_list = test_data_file.readlines()\n",
    "test_data_file.close()\n",
    "\n",
    "scorecard = []\n",
    "\n",
    "for record in test_data_list:\n",
    "    values = record.split(',')\n",
    "    correct_label = int(values[0])\n",
    "    \n",
    "    inputs = normalize(values[1:])\n",
    "    outputs = nn.query(inputs)\n",
    "\n",
    "    max_label_idx = np.argmax(outputs) # 求最大值所在的索引\n",
    "\n",
    "    # print('target: {}, network output: {}'.format(correct_label, max_label_idx))\n",
    "    if max_label_idx == correct_label:\n",
    "        scorecard.append(1)\n",
    "    else:\n",
    "        scorecard.append(0)\n",
    "# print('\\nscore board:', scorecard)\n",
    "scorecard_arr = np.asarray(scorecard)\n",
    "print('performances: ', scorecard_arr.sum() / scorecard_arr.size)"
   ]
  },
  {
   "cell_type": "code",
   "execution_count": null,
   "id": "99db259d-289c-4337-b820-609ffca4f195",
   "metadata": {},
   "outputs": [],
   "source": []
  }
 ],
 "metadata": {
  "kernelspec": {
   "display_name": "Python 3 (ipykernel)",
   "language": "python",
   "name": "python3"
  },
  "language_info": {
   "codemirror_mode": {
    "name": "ipython",
    "version": 3
   },
   "file_extension": ".py",
   "mimetype": "text/x-python",
   "name": "python",
   "nbconvert_exporter": "python",
   "pygments_lexer": "ipython3",
   "version": "3.12.5"
  }
 },
 "nbformat": 4,
 "nbformat_minor": 5
}
